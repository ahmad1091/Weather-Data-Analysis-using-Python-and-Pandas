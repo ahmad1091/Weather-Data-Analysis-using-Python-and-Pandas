{
 "cells": [
  {
   "cell_type": "markdown",
   "metadata": {},
   "source": [
    "**2. Are there any trends or patterns in regional precipitation levels?**\n",
    "\n",
    "To answer this question, we can analyze the precipitation data from the GHCN-Daily dataset by region and create visualizations to show any trends or patterns. Here's an example code that uses pandas and seaborn libraries to create a bar plot of average annual precipitation by region:"
   ]
  },
  {
   "cell_type": "code",
   "execution_count": null,
   "metadata": {},
   "outputs": [],
   "source": [
    "import pandas as pd\n",
    "import seaborn as sns\n",
    "\n",
    "# Load precipitation data from GHCN-Daily dataset\n",
    "df_precip = pd.read_csv('data/ghcn-daily/precipitation.csv')\n",
    "\n",
    "# Group data by region and year and calculate annual mean precipitation\n",
    "df_precip = df_precip.groupby(['Region', 'Year'])['Precipitation'].mean().reset_index()\n",
    "\n",
    "# Create a bar plot of average annual precipitation by region\n",
    "sns.barplot(x='Region', y='Precipitation', hue='Year', data=df_precip)\n",
    "plt.title('Average Annual Precipitation by Region')\n",
    "plt.xlabel('Region')\n",
    "plt.ylabel('Precipitation (mm)')\n",
    "plt.show()\n"
   ]
  }
 ],
 "metadata": {
  "kernelspec": {
   "display_name": "Python 3.8.10 64-bit",
   "language": "python",
   "name": "python3"
  },
  "language_info": {
   "name": "python",
   "version": "3.8.10"
  },
  "orig_nbformat": 4,
  "vscode": {
   "interpreter": {
    "hash": "916dbcbb3f70747c44a77c7bcd40155683ae19c65e1c03b4aa3499c5328201f1"
   }
  }
 },
 "nbformat": 4,
 "nbformat_minor": 2
}
