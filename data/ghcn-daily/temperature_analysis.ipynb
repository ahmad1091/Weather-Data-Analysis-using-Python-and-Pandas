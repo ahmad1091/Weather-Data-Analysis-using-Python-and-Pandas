{
 "cells": [
  {
   "cell_type": "markdown",
   "metadata": {},
   "source": [
    "**1. How have global temperatures changed over time?**\n",
    "\n",
    "One way to answer this question is by analyzing the temperature data from the GHCN-Daily dataset over time and creating visualizations to show the trends. Here's an example code that uses pandas and matplotlib libraries to create a time series plot of global temperature anomalies from 1900 to 2020:"
   ]
  },
  {
   "cell_type": "code",
   "execution_count": 1,
   "metadata": {},
   "outputs": [
    {
     "ename": "ModuleNotFoundError",
     "evalue": "No module named 'pandas'",
     "output_type": "error",
     "traceback": [
      "\u001b[0;31m---------------------------------------------------------------------------\u001b[0m",
      "\u001b[0;31mModuleNotFoundError\u001b[0m                       Traceback (most recent call last)",
      "Cell \u001b[0;32mIn[1], line 1\u001b[0m\n\u001b[0;32m----> 1\u001b[0m \u001b[38;5;28;01mimport\u001b[39;00m \u001b[38;5;21;01mpandas\u001b[39;00m \u001b[38;5;28;01mas\u001b[39;00m \u001b[38;5;21;01mpd\u001b[39;00m\n\u001b[1;32m      2\u001b[0m \u001b[38;5;28;01mimport\u001b[39;00m \u001b[38;5;21;01mmatplotlib\u001b[39;00m\u001b[38;5;21;01m.\u001b[39;00m\u001b[38;5;21;01mpyplot\u001b[39;00m \u001b[38;5;28;01mas\u001b[39;00m \u001b[38;5;21;01mplt\u001b[39;00m\n\u001b[1;32m      4\u001b[0m \u001b[38;5;66;03m# Load temperature data from GHCN-Daily dataset\u001b[39;00m\n",
      "\u001b[0;31mModuleNotFoundError\u001b[0m: No module named 'pandas'"
     ]
    }
   ],
   "source": [
    "import pandas as pd\n",
    "import matplotlib.pyplot as plt\n",
    "\n",
    "# Load temperature data from GHCN-Daily dataset\n",
    "df_temp = pd.read_csv('data/ghcn-daily/temperature.csv')\n",
    "\n",
    "# Convert temperature to Celsius\n",
    "df_temp['Temperature'] = (df_temp['Temperature'] / 10) - 273.15\n",
    "\n",
    "# Group data by year and calculate annual mean temperature\n",
    "df_temp = df_temp.groupby('Year')['Temperature'].mean().reset_index()\n",
    "\n",
    "# Create a time series plot of global temperature anomalies\n",
    "plt.plot(df_temp['Year'], df_temp['Temperature'], color='red')\n",
    "plt.title('Global Temperature Anomalies (1900-2020)')\n",
    "plt.xlabel('Year')\n",
    "plt.ylabel('Temperature (Celsius)')\n",
    "plt.show()\n"
   ]
  }
 ],
 "metadata": {
  "kernelspec": {
   "display_name": "Python 3.8.10 64-bit",
   "language": "python",
   "name": "python3"
  },
  "language_info": {
   "codemirror_mode": {
    "name": "ipython",
    "version": 3
   },
   "file_extension": ".py",
   "mimetype": "text/x-python",
   "name": "python",
   "nbconvert_exporter": "python",
   "pygments_lexer": "ipython3",
   "version": "3.8.10"
  },
  "orig_nbformat": 4,
  "vscode": {
   "interpreter": {
    "hash": "916dbcbb3f70747c44a77c7bcd40155683ae19c65e1c03b4aa3499c5328201f1"
   }
  }
 },
 "nbformat": 4,
 "nbformat_minor": 2
}
