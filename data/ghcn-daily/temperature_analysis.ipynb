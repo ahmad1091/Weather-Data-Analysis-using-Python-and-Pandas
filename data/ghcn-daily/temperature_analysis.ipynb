{
 "cells": [
  {
   "cell_type": "markdown",
   "metadata": {},
   "source": [
    "# 1. How have global temperatures changed over time?\n",
    "One way to answer this question is by analyzing the temperature data from the GHCN-Daily dataset over time and creating visualizations to show the trends. Here's an example code that uses pandas and matplotlib libraries to create a time series plot of global temperature anomalies from 1900 to 2020:"
   ]
  },
  {
   "cell_type": "code",
   "execution_count": null,
   "metadata": {},
   "outputs": [],
   "source": [
    "import pandas as pd\n",
    "import matplotlib.pyplot as plt\n",
    "\n",
    "# Load temperature data from GHCN-Daily dataset\n",
    "df_temp = pd.read_csv('data/ghcn-daily/temperature.csv')\n",
    "\n",
    "# Convert temperature to Celsius\n",
    "df_temp['Temperature'] = (df_temp['Temperature'] / 10) - 273.15\n",
    "\n",
    "# Group data by year and calculate annual mean temperature\n",
    "df_temp = df_temp.groupby('Year')['Temperature'].mean().reset_index()\n",
    "\n",
    "# Create a time series plot of global temperature anomalies\n",
    "plt.plot(df_temp['Year'], df_temp['Temperature'], color='red')\n",
    "plt.title('Global Temperature Anomalies (1900-2020)')\n",
    "plt.xlabel('Year')\n",
    "plt.ylabel('Temperature (Celsius)')\n",
    "plt.show()\n"
   ]
  }
 ],
 "metadata": {
  "language_info": {
   "name": "python"
  },
  "orig_nbformat": 4
 },
 "nbformat": 4,
 "nbformat_minor": 2
}
