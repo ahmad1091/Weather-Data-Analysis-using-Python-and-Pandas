{
 "cells": [
  {
   "cell_type": "markdown",
   "metadata": {},
   "source": [
    "In this example, we assume that the temperature data and economic data for the country of interest are stored in separate CSV files in the data directory. You would need to replace the filenames and column names with the appropriate values for your dataset."
   ]
  },
  {
   "cell_type": "code",
   "execution_count": null,
   "metadata": {},
   "outputs": [],
   "source": [
    "import pandas as pd\n",
    "\n",
    "# Load temperature data for the country of interest\n",
    "temp_data = pd.read_csv('data/ghcn-daily/country_temperature.csv')\n",
    "\n",
    "# Load economic data for the same country\n",
    "economic_data = pd.read_csv('data/economic_data/country_economic_indicators.csv')\n",
    "\n",
    "# Merge the two datasets based on year\n",
    "merged_data = pd.merge(temp_data, economic_data, on='year')\n",
    "\n",
    "# Calculate the correlation matrix\n",
    "correlation_matrix = merged_data.corr()\n",
    "\n",
    "# Print the correlation between temperature and GDP\n",
    "print('Correlation between temperature and GDP:', correlation_matrix.loc['temperature', 'gdp'])\n"
   ]
  }
 ],
 "metadata": {
  "kernelspec": {
   "display_name": "Python 3.8.10 64-bit",
   "language": "python",
   "name": "python3"
  },
  "language_info": {
   "name": "python",
   "version": "3.8.10"
  },
  "orig_nbformat": 4,
  "vscode": {
   "interpreter": {
    "hash": "916dbcbb3f70747c44a77c7bcd40155683ae19c65e1c03b4aa3499c5328201f1"
   }
  }
 },
 "nbformat": 4,
 "nbformat_minor": 2
}
